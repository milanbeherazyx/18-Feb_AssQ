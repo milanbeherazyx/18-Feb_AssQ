{
 "cells": [
  {
   "cell_type": "code",
   "execution_count": 10,
   "id": "ba415df3-f9dc-4836-9ace-a8eb3b84d110",
   "metadata": {},
   "outputs": [],
   "source": [
    "#Q1. What is an API? Give an example, where an API is used in real life.\n"
   ]
  },
  {
   "cell_type": "code",
   "execution_count": 11,
   "id": "14648b1d-cdfd-407e-a6ef-6bfa9d3bd8a2",
   "metadata": {},
   "outputs": [
    {
     "data": {
      "text/plain": [
       "'\\nAPI stands for Application Programming Interface, which is a set of protocols, routines, and tools for building software applications. \\nIn simpler terms, it is a way for different software applications to communicate with each other. \\nFor example, when you use the Google Maps app to navigate to a location, the app uses Google Maps API to get real-time traffic updates and route directions.\\n'"
      ]
     },
     "execution_count": 11,
     "metadata": {},
     "output_type": "execute_result"
    }
   ],
   "source": [
    "\"\"\"\n",
    "API stands for Application Programming Interface, which is a set of protocols, routines, and tools for building software applications. \n",
    "In simpler terms, it is a way for different software applications to communicate with each other. \n",
    "For example, when you use the Google Maps app to navigate to a location, the app uses Google Maps API to get real-time traffic updates and route directions.\n",
    "\"\"\""
   ]
  },
  {
   "cell_type": "code",
   "execution_count": 12,
   "id": "1cd555f2-3b8f-4f37-8fee-3772a1604392",
   "metadata": {},
   "outputs": [],
   "source": [
    "#Q2. Give advantages and disadvantages of using API."
   ]
  },
  {
   "cell_type": "code",
   "execution_count": 13,
   "id": "a71ca6b8-6f7e-4e57-9419-91443a2f01e3",
   "metadata": {},
   "outputs": [
    {
     "data": {
      "text/plain": [
       "'\\nAdvantages of using API:\\n\\nAllows developers to easily integrate different software applications\\nSaves development time and cost by providing pre-built functions and libraries\\nIncreases efficiency and productivity by automating tasks and processes\\nFacilitates communication and collaboration between different systems and platforms\\n\\n\\nDisadvantages of using API:\\n\\nCan be complex and require technical expertise to implement and maintain\\nAPI changes can break dependent applications, leading to compatibility issues\\nSecurity vulnerabilities can be introduced if not properly designed and tested\\nCan lead to data privacy concerns if sensitive information is exposed through APIs\\n'"
      ]
     },
     "execution_count": 13,
     "metadata": {},
     "output_type": "execute_result"
    }
   ],
   "source": [
    "\"\"\"\n",
    "Advantages of using API:\n",
    "\n",
    "Allows developers to easily integrate different software applications\n",
    "Saves development time and cost by providing pre-built functions and libraries\n",
    "Increases efficiency and productivity by automating tasks and processes\n",
    "Facilitates communication and collaboration between different systems and platforms\n",
    "\n",
    "\n",
    "Disadvantages of using API:\n",
    "\n",
    "Can be complex and require technical expertise to implement and maintain\n",
    "API changes can break dependent applications, leading to compatibility issues\n",
    "Security vulnerabilities can be introduced if not properly designed and tested\n",
    "Can lead to data privacy concerns if sensitive information is exposed through APIs\n",
    "\"\"\""
   ]
  },
  {
   "cell_type": "code",
   "execution_count": 14,
   "id": "d8bdf07c-9861-4efc-a679-ebc89bc8e5f8",
   "metadata": {},
   "outputs": [],
   "source": [
    "#Q3. What is a Web API? Differentiate between API and Web API."
   ]
  },
  {
   "cell_type": "code",
   "execution_count": 15,
   "id": "cd7c9ad3-e6ad-4f0e-a7d0-28bb9a19454c",
   "metadata": {},
   "outputs": [
    {
     "data": {
      "text/plain": [
       "'\\nA Web API (or Web Service) is an API that is accessed over the internet using HTTP protocols. \\nIt enables communication between different web-based software applications. \\nThe main difference between a regular API and a Web API is that a Web API is specifically designed for web-based communication and uses web-based protocols like HTTP and HTTPS.\\n'"
      ]
     },
     "execution_count": 15,
     "metadata": {},
     "output_type": "execute_result"
    }
   ],
   "source": [
    "\"\"\"\n",
    "A Web API (or Web Service) is an API that is accessed over the internet using HTTP protocols. \n",
    "It enables communication between different web-based software applications. \n",
    "The main difference between a regular API and a Web API is that a Web API is specifically designed for web-based communication and uses web-based protocols like HTTP and HTTPS.\n",
    "\"\"\""
   ]
  },
  {
   "cell_type": "code",
   "execution_count": 16,
   "id": "ad075c7c-1f67-4b7f-9767-71180e20cd75",
   "metadata": {},
   "outputs": [],
   "source": [
    "#Q4. Explain REST and SOAP Architecture. Mention shortcomings of SOAP."
   ]
  },
  {
   "cell_type": "code",
   "execution_count": 17,
   "id": "1da71cac-8f6b-42bb-99d6-1fb5705b8cb1",
   "metadata": {},
   "outputs": [
    {
     "data": {
      "text/plain": [
       "\"\\nREST (Representational State Transfer) is a software architectural style that uses HTTP protocols for web-based communication. \\nIt uses a set of standard HTTP methods (like GET, POST, PUT, and DELETE) to access and manipulate resources. \\nRESTful APIs are stateless, which means they don't store any information about the client's session.\\n\\n\\n\\nSOAP (Simple Object Access Protocol) is an older protocol that uses XML for web-based communication. \\nIt relies on a set of standards for defining messages and procedures, making it more rigid than REST. \\nSOAP APIs are stateful, which means they keep track of the client's session.\\n\\nShortcomings of SOAP:\\n\\nSOAP messages are bulky and consume more bandwidth\\nSOAP requires a lot of configuration and setup, making it more complex to use\\nSOAP relies on XML, which is less efficient than JSON (used by REST)\\nSOAP is less scalable compared to REST due to its stateful nature\\n\""
      ]
     },
     "execution_count": 17,
     "metadata": {},
     "output_type": "execute_result"
    }
   ],
   "source": [
    "\"\"\"\n",
    "REST (Representational State Transfer) is a software architectural style that uses HTTP protocols for web-based communication. \n",
    "It uses a set of standard HTTP methods (like GET, POST, PUT, and DELETE) to access and manipulate resources. \n",
    "RESTful APIs are stateless, which means they don't store any information about the client's session.\n",
    "\n",
    "\n",
    "\n",
    "SOAP (Simple Object Access Protocol) is an older protocol that uses XML for web-based communication. \n",
    "It relies on a set of standards for defining messages and procedures, making it more rigid than REST. \n",
    "SOAP APIs are stateful, which means they keep track of the client's session.\n",
    "\n",
    "Shortcomings of SOAP:\n",
    "\n",
    "SOAP messages are bulky and consume more bandwidth\n",
    "SOAP requires a lot of configuration and setup, making it more complex to use\n",
    "SOAP relies on XML, which is less efficient than JSON (used by REST)\n",
    "SOAP is less scalable compared to REST due to its stateful nature\n",
    "\"\"\""
   ]
  },
  {
   "cell_type": "code",
   "execution_count": 18,
   "id": "f86a417f-6461-4eb4-a023-e25d79755b46",
   "metadata": {},
   "outputs": [],
   "source": [
    "#Q5. Differentiate between REST and SOAP."
   ]
  },
  {
   "cell_type": "code",
   "execution_count": 19,
   "id": "6f33dae4-ae54-48f4-957d-d22ef008289a",
   "metadata": {},
   "outputs": [
    {
     "data": {
      "text/plain": [
       "\"\\nThe main differences between REST and SOAP are:\\n\\nProtocol: REST uses HTTP protocols while SOAP uses XML protocols\\nMessage format: REST uses simple message formats like JSON and XML while SOAP uses a complex message format based on XML\\nMessage size: REST messages are smaller compared to SOAP messages, making it more efficient\\nState management: REST is stateless while SOAP is stateful\\nCaching: REST supports caching while SOAP doesn't\\n\\n\\nOverall, REST is a more modern and efficient architectural style for web-based communication, while SOAP is older and more complex.\\n\""
      ]
     },
     "execution_count": 19,
     "metadata": {},
     "output_type": "execute_result"
    }
   ],
   "source": [
    "\"\"\"\n",
    "The main differences between REST and SOAP are:\n",
    "\n",
    "Protocol: REST uses HTTP protocols while SOAP uses XML protocols\n",
    "Message format: REST uses simple message formats like JSON and XML while SOAP uses a complex message format based on XML\n",
    "Message size: REST messages are smaller compared to SOAP messages, making it more efficient\n",
    "State management: REST is stateless while SOAP is stateful\n",
    "Caching: REST supports caching while SOAP doesn't\n",
    "\n",
    "\n",
    "Overall, REST is a more modern and efficient architectural style for web-based communication, while SOAP is older and more complex.\n",
    "\"\"\""
   ]
  }
 ],
 "metadata": {
  "kernelspec": {
   "display_name": "Python 3 (ipykernel)",
   "language": "python",
   "name": "python3"
  },
  "language_info": {
   "codemirror_mode": {
    "name": "ipython",
    "version": 3
   },
   "file_extension": ".py",
   "mimetype": "text/x-python",
   "name": "python",
   "nbconvert_exporter": "python",
   "pygments_lexer": "ipython3",
   "version": "3.10.8"
  }
 },
 "nbformat": 4,
 "nbformat_minor": 5
}
